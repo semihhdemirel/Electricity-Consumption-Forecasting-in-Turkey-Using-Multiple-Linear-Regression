{
 "cells": [
  {
   "cell_type": "code",
   "execution_count": 1,
   "metadata": {},
   "outputs": [],
   "source": [
    "import matplotlib.pyplot as plt\n",
    "import numpy as np\n",
    "import pandas as pd"
   ]
  },
  {
   "cell_type": "code",
   "execution_count": 2,
   "metadata": {},
   "outputs": [
    {
     "name": "stdout",
     "output_type": "stream",
     "text": [
      "   Year  Population  electricity generation(GWh)  \\\n",
      "0  1970    34876296                       8623.0   \n",
      "1  1971    35720603                       9781.0   \n",
      "2  1972    36587267                      11242.0   \n",
      "3  1973    37472329                      12425.0   \n",
      "4  1974    38370278                      13477.0   \n",
      "\n",
      "   CO2 Emission(metric tons per capita)  GDP(current US$)  \\\n",
      "0                              1.223000      1.708700e+10   \n",
      "1                              1.336297      1.625662e+10   \n",
      "2                              1.472021      2.043110e+10   \n",
      "3                              1.587467      2.572438e+10   \n",
      "4                              1.593322      3.559991e+10   \n",
      "\n",
      "   electricity consumption(GWh)  \n",
      "0                        7308.0  \n",
      "1                        8289.0  \n",
      "2                        9527.0  \n",
      "3                       10530.0  \n",
      "4                       11359.0  \n",
      "(50, 6)\n"
     ]
    }
   ],
   "source": [
    "data=pd.read_excel(r'C:\\Users\\LENOVO\\Desktop\\arastirmalar\\Multiple_Linear_Regression\\data.xlsx')\n",
    "print(data.head())\n",
    "print(data.shape)"
   ]
  },
  {
   "cell_type": "markdown",
   "metadata": {},
   "source": [
    "There are 6 features. The electricity consumption is estimated using the first 5 features. The dataset includes the years between 1970 and 2019. The model estimates electricity consumption between 2020-2029."
   ]
  },
  {
   "cell_type": "code",
   "execution_count": 3,
   "metadata": {},
   "outputs": [],
   "source": [
    "Year=data.iloc[:,0:1]\n",
    "X=data.iloc[:,0:5].values\n",
    "y=data.iloc[:,-1].values"
   ]
  },
  {
   "cell_type": "code",
   "execution_count": 4,
   "metadata": {},
   "outputs": [],
   "source": [
    "from sklearn.model_selection import train_test_split\n",
    "X_train,X_test,y_train,y_test=train_test_split(X,y,test_size=0.3,random_state=2)"
   ]
  },
  {
   "cell_type": "code",
   "execution_count": 5,
   "metadata": {},
   "outputs": [
    {
     "name": "stdout",
     "output_type": "stream",
     "text": [
      "0.9997325775824999\n",
      "0.999675140902753\n"
     ]
    }
   ],
   "source": [
    "from sklearn.linear_model import LinearRegression\n",
    "lr=LinearRegression()\n",
    "lr.fit(X_train, y_train)\n",
    "y_pred=lr.predict(X_test)\n",
    "print(lr.score(X_train, y_train))\n",
    "print(lr.score(X_test, y_test))"
   ]
  },
  {
   "cell_type": "markdown",
   "metadata": {},
   "source": [
    "The results obtained above show no signs of overfitting or underfitting."
   ]
  },
  {
   "cell_type": "code",
   "execution_count": 7,
   "metadata": {},
   "outputs": [
    {
     "name": "stdout",
     "output_type": "stream",
     "text": [
      "                            OLS Regression Results                            \n",
      "==============================================================================\n",
      "Dep. Variable:                      y   R-squared:                       1.000\n",
      "Model:                            OLS   Adj. R-squared:                  1.000\n",
      "Method:                 Least Squares   F-statistic:                 4.191e+04\n",
      "Date:                Mon, 30 Aug 2021   Prob (F-statistic):           4.93e-79\n",
      "Time:                        12:09:16   Log-Likelihood:                -435.41\n",
      "No. Observations:                  50   AIC:                             878.8\n",
      "Df Residuals:                      46   BIC:                             886.5\n",
      "Df Model:                           3                                         \n",
      "Covariance Type:            nonrobust                                         \n",
      "==============================================================================\n",
      "                 coef    std err          t      P>|t|      [0.025      0.975]\n",
      "------------------------------------------------------------------------------\n",
      "const       3.701e+06   4.48e+05      8.259      0.000     2.8e+06     4.6e+06\n",
      "x1          3.701e+06   4.48e+05      8.259      0.000     2.8e+06     4.6e+06\n",
      "x2         -3821.5726    463.737     -8.241      0.000   -4755.027   -2888.118\n",
      "x3             0.0037      0.001      7.366      0.000       0.003       0.005\n",
      "x4             0.8570      0.010     87.376      0.000       0.837       0.877\n",
      "==============================================================================\n",
      "Omnibus:                        3.080   Durbin-Watson:                   0.471\n",
      "Prob(Omnibus):                  0.214   Jarque-Bera (JB):                1.600\n",
      "Skew:                          -0.055   Prob(JB):                        0.449\n",
      "Kurtosis:                       2.130   Cond. No.                     3.17e+17\n",
      "==============================================================================\n",
      "\n",
      "Notes:\n",
      "[1] Standard Errors assume that the covariance matrix of the errors is correctly specified.\n",
      "[2] The smallest eigenvalue is 1.77e-18. This might indicate that there are\n",
      "strong multicollinearity problems or that the design matrix is singular.\n"
     ]
    }
   ],
   "source": [
    "import statsmodels.api as sm\n",
    "X=np.append(arr=np.ones((50,1)).astype(int),values=X,axis=1)\n",
    "X_new=X[:,[0,1,2,3,4]]\n",
    "model_regresyon=sm.OLS(endog=y,exog=X_new).fit()\n",
    "print(model_regresyon.summary())"
   ]
  },
  {
   "cell_type": "markdown",
   "metadata": {},
   "source": [
    "The p-value indicates how useful a feature is to the model. For this, the p-value have to be less than 0.05. When the table above is examined, it can be seen that all the features are useful."
   ]
  },
  {
   "cell_type": "code",
   "execution_count": 8,
   "metadata": {},
   "outputs": [
    {
     "name": "stdout",
     "output_type": "stream",
     "text": [
      "Mean Absolute Error: 1324.5685611352576\n",
      "Mean Squared Error: 2465886.435587086\n",
      "Median Absolute Error: 1190.679013856512\n",
      "r2_score: 0.999675140902753\n",
      "Mean Squared Error: 2465886.435587086\n"
     ]
    }
   ],
   "source": [
    "from sklearn.metrics import explained_variance_score,mean_absolute_error,mean_squared_error,\\\n",
    "median_absolute_error,r2_score\n",
    "print(\"Mean Absolute Error:\",mean_absolute_error(y_test,y_pred))\n",
    "print(\"Mean Squared Error:\",mean_squared_error(y_test,y_pred))\n",
    "print(\"Median Absolute Error:\",median_absolute_error(y_test,y_pred))\n",
    "print(\"r2_score:\",r2_score(y_test,y_pred))\n",
    "print(\"Mean Squared Error:\",mean_squared_error(y_test,y_pred))"
   ]
  },
  {
   "cell_type": "code",
   "execution_count": 9,
   "metadata": {},
   "outputs": [
    {
     "name": "stdout",
     "output_type": "stream",
     "text": [
      "   Year  Population  electricity generation(GWh)  \\\n",
      "0  2020    84339067                       309759   \n",
      "1  2021    85042738                       315734   \n",
      "2  2022    85561976                       321824   \n",
      "3  2023    85957253                       328031   \n",
      "4  2024    86316463                       334359   \n",
      "5  2025    86705224                       340808   \n",
      "6  2026    87190773                       347382   \n",
      "7  2027    87679041                       354082   \n",
      "8  2028    88170044                       360912   \n",
      "9  2029    88663796                       367873   \n",
      "\n",
      "   CO2 Emission(metric tons per capita)  GDP(current US$)  \\\n",
      "0                              5.339805      7.761151e+11   \n",
      "1                              5.442802      7.910852e+11   \n",
      "2                              5.547786      8.063441e+11   \n",
      "3                              5.654795      8.218974e+11   \n",
      "4                              5.763868      8.377506e+11   \n",
      "5                              5.875045      8.539096e+11   \n",
      "6                              5.988366      8.703803e+11   \n",
      "7                              6.103873      8.871688e+11   \n",
      "8                              6.221608      9.042810e+11   \n",
      "9                              6.341614      9.217233e+11   \n",
      "\n",
      "   electricity consumption(GWh)  \n",
      "0                           NaN  \n",
      "1                           NaN  \n",
      "2                           NaN  \n",
      "3                           NaN  \n",
      "4                           NaN  \n",
      "5                           NaN  \n",
      "6                           NaN  \n",
      "7                           NaN  \n",
      "8                           NaN  \n",
      "9                           NaN  \n",
      "(10, 6)\n"
     ]
    }
   ],
   "source": [
    "prediction_data=pd.read_excel(r'C:\\Users\\LENOVO\\Desktop\\arastirmalar\\Multiple_Linear_Regression\\prediction_data.xlsx')\n",
    "print(prediction_data.head(10))\n",
    "print(prediction_data.shape)"
   ]
  },
  {
   "cell_type": "markdown",
   "metadata": {},
   "source": [
    "The features to be estimated are given above. The electricity consumption column is empty. Because this column will be estimated. Other features are found by calculating the average of the rate of change of values between 2010-2019. Source [3] was used for the population column."
   ]
  },
  {
   "cell_type": "code",
   "execution_count": 10,
   "metadata": {},
   "outputs": [],
   "source": [
    "year=prediction_data.iloc[:,0:1]\n",
    "X_prediction_data=prediction_data.iloc[:,0:5].values\n",
    "y_prediction_data=prediction_data.iloc[:,-1].values"
   ]
  },
  {
   "cell_type": "code",
   "execution_count": 11,
   "metadata": {},
   "outputs": [
    {
     "name": "stdout",
     "output_type": "stream",
     "text": [
      "[259699.28195579 263126.83175331 265660.01825208 267624.73399418\n",
      " 269495.46737105 271624.14389739 274374.49656949 277243.02382581\n",
      " 280233.03590942 283345.49059143]\n"
     ]
    }
   ],
   "source": [
    "y_pred=lr.predict(X_prediction_data)\n",
    "print(y_pred)"
   ]
  },
  {
   "cell_type": "code",
   "execution_count": 12,
   "metadata": {},
   "outputs": [],
   "source": [
    "new_year=Year.append(year)\n",
    "YEAR=new_year.to_numpy()"
   ]
  },
  {
   "cell_type": "code",
   "execution_count": 13,
   "metadata": {},
   "outputs": [
    {
     "name": "stdout",
     "output_type": "stream",
     "text": [
      "    Year  Electricity Consumption(GWh)\n",
      "0   1970                   7308.000000\n",
      "1   1971                   8289.000000\n",
      "2   1972                   9527.000000\n",
      "3   1973                  10530.000000\n",
      "4   1974                  11359.000000\n",
      "5   1975                  13492.000000\n",
      "6   1976                  16079.000000\n",
      "7   1977                  17969.000000\n",
      "8   1978                  18934.000000\n",
      "9   1979                  19633.000000\n",
      "10  1980                  20398.000000\n",
      "11  1981                  22030.000000\n",
      "12  1982                  23587.000000\n",
      "13  1983                  24465.000000\n",
      "14  1984                  27635.000000\n",
      "15  1985                  29709.000000\n",
      "16  1986                  32210.000000\n",
      "17  1987                  36697.000000\n",
      "18  1988                  39722.000000\n",
      "19  1989                  43120.000000\n",
      "20  1990                  46820.000000\n",
      "21  1991                  49283.000000\n",
      "22  1992                  53985.000000\n",
      "23  1993                  59237.000000\n",
      "24  1994                  61401.000000\n",
      "25  1995                  67394.000000\n",
      "26  1996                  74157.000000\n",
      "27  1997                  81885.000000\n",
      "28  1998                  87705.000000\n",
      "29  1999                  91202.000000\n",
      "30  2000                  98296.000000\n",
      "31  2001                  97070.000000\n",
      "32  2002                 102948.000000\n",
      "33  2003                 111766.000000\n",
      "34  2004                 121142.000000\n",
      "35  2005                 130263.000000\n",
      "36  2006                 143071.000000\n",
      "37  2007                 155135.000000\n",
      "38  2008                 161948.000000\n",
      "39  2009                 156894.000000\n",
      "40  2010                 172051.000000\n",
      "41  2011                 186100.000000\n",
      "42  2012                 194923.000000\n",
      "43  2013                 198045.000000\n",
      "44  2014                 207375.000000\n",
      "45  2015                 217312.000000\n",
      "46  2016                 231203.700000\n",
      "47  2017                 249022.600000\n",
      "48  2018                 258232.000000\n",
      "49  2019                 257273.100000\n",
      "50  2020                 259699.281956\n",
      "51  2021                 263126.831753\n",
      "52  2022                 265660.018252\n",
      "53  2023                 267624.733994\n",
      "54  2024                 269495.467371\n",
      "55  2025                 271624.143897\n",
      "56  2026                 274374.496569\n",
      "57  2027                 277243.023826\n",
      "58  2028                 280233.035909\n",
      "59  2029                 283345.490591\n"
     ]
    }
   ],
   "source": [
    "consumption=data.iloc[:,5].values\n",
    "electricity_consumption=np.concatenate((consumption,y_pred))\n",
    "s1=pd.DataFrame(data=YEAR,columns=['Year'])\n",
    "s2=pd.DataFrame(data=electricity_consumption,columns=['Electricity Consumption(GWh)'])\n",
    "prediction_results=pd.concat([s1,s2],axis=1)\n",
    "print(prediction_results)"
   ]
  },
  {
   "cell_type": "markdown",
   "metadata": {},
   "source": [
    "All values can be seen above. The graph of the values can be seen below."
   ]
  },
  {
   "cell_type": "code",
   "execution_count": 14,
   "metadata": {},
   "outputs": [
    {
     "data": {
      "text/plain": [
       "Text(0.5, 1.0, 'Electricity Consumption in Turkey')"
      ]
     },
     "execution_count": 14,
     "metadata": {},
     "output_type": "execute_result"
    },
    {
     "data": {
      "image/png": "[encoded data removed]",
      "text/plain": [
       "<Figure size 432x288 with 1 Axes>"
      ]
     },
     "metadata": {
      "needs_background": "light"
     },
     "output_type": "display_data"
    }
   ],
   "source": [
    "plt.plot(YEAR,electricity_consumption)\n",
    "plt.xlabel('Years')\n",
    "plt.ylabel('Electricity Consumption(GWh)')\n",
    "plt.title('Electricity Consumption in Turkey')"
   ]
  },
  {
   "cell_type": "code",
   "execution_count": 15,
   "metadata": {},
   "outputs": [
    {
     "data": {
      "text/plain": [
       "Text(0.5, 1.0, 'Population in Turkey')"
      ]
     },
     "execution_count": 15,
     "metadata": {},
     "output_type": "execute_result"
    },
    {
     "data": {
      "image/png": "[encoded data removed]",
      "text/plain": [
       "<Figure size 432x288 with 1 Axes>"
      ]
     },
     "metadata": {
      "needs_background": "light"
     },
     "output_type": "display_data"
    }
   ],
   "source": [
    "population=data.iloc[:,1].values\n",
    "plt.plot(Year,population)\n",
    "plt.xlabel('Years')\n",
    "plt.ylabel('Population')\n",
    "plt.title('Population in Turkey')"
   ]
  },
  {
   "cell_type": "code",
   "execution_count": 16,
   "metadata": {},
   "outputs": [
    {
     "data": {
      "text/plain": [
       "Text(0.5, 1.0, 'Electricity Generation in Turkey')"
      ]
     },
     "execution_count": 16,
     "metadata": {},
     "output_type": "execute_result"
    },
    {
     "data": {
      "image/png": "[encoded data removed]",
      "text/plain": [
       "<Figure size 432x288 with 1 Axes>"
      ]
     },
     "metadata": {
      "needs_background": "light"
     },
     "output_type": "display_data"
    }
   ],
   "source": [
    "electricity_generation=data.iloc[:,2].values\n",
    "plt.plot(Year,electricity_generation)\n",
    "plt.xlabel('Years')\n",
    "plt.ylabel('Electricity Generation(GWh)')\n",
    "plt.title('Electricity Generation in Turkey')"
   ]
  },
  {
   "cell_type": "code",
   "execution_count": 17,
   "metadata": {},
   "outputs": [
    {
     "data": {
      "text/plain": [
       "Text(0.5, 1.0, 'CO2 Emission in Turkey')"
      ]
     },
     "execution_count": 17,
     "metadata": {},
     "output_type": "execute_result"
    },
    {
     "data": {
      "image/png": "[encoded data removed]",
      "text/plain": [
       "<Figure size 432x288 with 1 Axes>"
      ]
     },
     "metadata": {
      "needs_background": "light"
     },
     "output_type": "display_data"
    }
   ],
   "source": [
    "CO2_emission=data.iloc[:,3].values\n",
    "plt.plot(Year,CO2_emission)\n",
    "plt.xlabel('Years')\n",
    "plt.ylabel('CO2 Emission')\n",
    "plt.title('CO2 Emission in Turkey')"
   ]
  },
  {
   "cell_type": "code",
   "execution_count": 18,
   "metadata": {},
   "outputs": [
    {
     "data": {
      "text/plain": [
       "Text(0.5, 1.0, 'GDP(current US$) in Turkey')"
      ]
     },
     "execution_count": 18,
     "metadata": {},
     "output_type": "execute_result"
    },
    {
     "data": {
      "image/png": "[encoded data removed]",
      "text/plain": [
       "<Figure size 432x288 with 1 Axes>"
      ]
     },
     "metadata": {
      "needs_background": "light"
     },
     "output_type": "display_data"
    }
   ],
   "source": [
    "GDP=data.iloc[:,4].values\n",
    "plt.plot(Year,GDP)\n",
    "plt.xlabel('Years')\n",
    "plt.ylabel('GDP(current US$)')\n",
    "plt.title('GDP(current US$) in Turkey')"
   ]
  }
 ],
 "metadata": {
  "kernelspec": {
   "display_name": "Python 3",
   "language": "python",
   "name": "python3"
  },
  "language_info": {
   "codemirror_mode": {
    "name": "ipython",
    "version": 3
   },
   "file_extension": ".py",
   "mimetype": "text/x-python",
   "name": "python",
   "nbconvert_exporter": "python",
   "pygments_lexer": "ipython3",
   "version": "3.8.5"
  }
 },
 "nbformat": 4,
 "nbformat_minor": 4
}
